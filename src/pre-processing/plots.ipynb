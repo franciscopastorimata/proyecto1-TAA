{
 "cells": [
  {
   "cell_type": "code",
   "execution_count": 21,
   "metadata": {},
   "outputs": [],
   "source": [
    "import numpy as np\n",
    "import pandas as pd\n",
    "import seaborn as sns\n",
    "import matplotlib.pyplot as plt\n",
    "\n",
    "sns.set()\n",
    "% matplotlib inline\n",
    "\n",
    "from pre_processing import map_s_and_b_values, get_target, change_999values_to_NaN, drop_unused_columns, change_Nan_values_by_the_mean\n"
   ]
  },
  {
   "cell_type": "code",
   "execution_count": 22,
   "metadata": {},
   "outputs": [],
   "source": [
    "data_training = pd.read_csv('../../data/input/training.csv')\n",
    "data_training = map_s_and_b_values(data_training)\n",
    "data_training = change_999values_to_NaN(data_training)"
   ]
  },
  {
   "cell_type": "code",
   "execution_count": 47,
   "metadata": {},
   "outputs": [
    {
     "data": {
      "text/plain": [
       "<AxesSubplot:ylabel='Weights (log)'>"
      ]
     },
     "execution_count": 47,
     "metadata": {},
     "output_type": "execute_result"
    },
    {
     "data": {
      "image/png": "[encoded data removed]",
      "text/plain": [
       "<Figure size 360x360 with 1 Axes>"
      ]
     },
     "metadata": {
      "needs_background": "light"
     },
     "output_type": "display_data"
    }
   ],
   "source": [
    "signal_weights = data_training.loc[(data_training['Label'] == 1)].Weight.sum()\n",
    "background_weights = data_training.loc[(data_training['Label'] == 0)].Weight.sum()\n",
    "\n",
    "y = [signal_weights, background_weights]\n",
    "x = [\"Signal\", \"Background\"]\n",
    "\n",
    "fig, ax = plt.subplots(figsize=(5, 5))\n",
    "ax.set(yscale=\"log\")\n",
    "plt.ylabel(\"Weights (log)\")\n",
    "plt.yticks(ticks=[1e3, 1e4, 1e5], labels= [1000, 10000, 100000])\n",
    "sns.barplot(x = x, y = y)"
   ]
  }
 ],
 "metadata": {
  "interpreter": {
   "hash": "664f1adae8684a08f3cc182a06030f4736147a48fdadc49b8444ddeeb7bd1d0e"
  },
  "kernelspec": {
   "display_name": "Python 3.8.11 ('fing-FUAA')",
   "language": "python",
   "name": "python3"
  },
  "language_info": {
   "codemirror_mode": {
    "name": "ipython",
    "version": 3
   },
   "file_extension": ".py",
   "mimetype": "text/x-python",
   "name": "python",
   "nbconvert_exporter": "python",
   "pygments_lexer": "ipython3",
   "version": "3.8.11"
  },
  "orig_nbformat": 4
 },
 "nbformat": 4,
 "nbformat_minor": 2
}
